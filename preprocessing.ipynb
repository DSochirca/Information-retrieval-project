{
 "cells": [
  {
   "cell_type": "code",
   "execution_count": 4,
   "metadata": {
    "collapsed": true
   },
   "outputs": [
    {
     "data": {
      "text/plain": "     AnonID                            Query            QueryTime  ItemRank  \\\n0       479                       family guy  2006-03-01 16:01:20       NaN   \n1       479          also sprach zarathustra  2006-03-02 14:48:55       NaN   \n2       479      family guy movie references  2006-03-03 22:37:46       1.0   \n3       479  top grossing movies of all time  2006-03-03 22:42:42       1.0   \n4       479  top grossing movies of all time  2006-03-03 22:42:42       2.0   \n..      ...                              ...                  ...       ...   \n118     479                         nip tuck  2006-05-28 00:44:58       4.0   \n119     479                nip tuck season 4  2006-05-28 00:47:05       NaN   \n120     479            nip tuck season 3 dvd  2006-05-28 00:47:48       7.0   \n121     479            nip tuck season 3 dvd  2006-05-28 00:47:48       9.0   \n122     479            nip tuck season 3 dvd  2006-05-28 00:47:48       1.0   \n\n                          ClickURL  \n0                              NaN  \n1                              NaN  \n2    http://www.familyguyfiles.com  \n3              http://movieweb.com  \n4              http://www.imdb.com  \n..                             ...  \n118         http://www.niptuck.com  \n119                            NaN  \n120        http://en.wikipedia.org  \n121      http://www.dvdtimes.co.uk  \n122        http://www.amazon.co.uk  \n\n[123 rows x 5 columns]",
      "text/html": "<div>\n<style scoped>\n    .dataframe tbody tr th:only-of-type {\n        vertical-align: middle;\n    }\n\n    .dataframe tbody tr th {\n        vertical-align: top;\n    }\n\n    .dataframe thead th {\n        text-align: right;\n    }\n</style>\n<table border=\"1\" class=\"dataframe\">\n  <thead>\n    <tr style=\"text-align: right;\">\n      <th></th>\n      <th>AnonID</th>\n      <th>Query</th>\n      <th>QueryTime</th>\n      <th>ItemRank</th>\n      <th>ClickURL</th>\n    </tr>\n  </thead>\n  <tbody>\n    <tr>\n      <th>0</th>\n      <td>479</td>\n      <td>family guy</td>\n      <td>2006-03-01 16:01:20</td>\n      <td>NaN</td>\n      <td>NaN</td>\n    </tr>\n    <tr>\n      <th>1</th>\n      <td>479</td>\n      <td>also sprach zarathustra</td>\n      <td>2006-03-02 14:48:55</td>\n      <td>NaN</td>\n      <td>NaN</td>\n    </tr>\n    <tr>\n      <th>2</th>\n      <td>479</td>\n      <td>family guy movie references</td>\n      <td>2006-03-03 22:37:46</td>\n      <td>1.0</td>\n      <td>http://www.familyguyfiles.com</td>\n    </tr>\n    <tr>\n      <th>3</th>\n      <td>479</td>\n      <td>top grossing movies of all time</td>\n      <td>2006-03-03 22:42:42</td>\n      <td>1.0</td>\n      <td>http://movieweb.com</td>\n    </tr>\n    <tr>\n      <th>4</th>\n      <td>479</td>\n      <td>top grossing movies of all time</td>\n      <td>2006-03-03 22:42:42</td>\n      <td>2.0</td>\n      <td>http://www.imdb.com</td>\n    </tr>\n    <tr>\n      <th>...</th>\n      <td>...</td>\n      <td>...</td>\n      <td>...</td>\n      <td>...</td>\n      <td>...</td>\n    </tr>\n    <tr>\n      <th>118</th>\n      <td>479</td>\n      <td>nip tuck</td>\n      <td>2006-05-28 00:44:58</td>\n      <td>4.0</td>\n      <td>http://www.niptuck.com</td>\n    </tr>\n    <tr>\n      <th>119</th>\n      <td>479</td>\n      <td>nip tuck season 4</td>\n      <td>2006-05-28 00:47:05</td>\n      <td>NaN</td>\n      <td>NaN</td>\n    </tr>\n    <tr>\n      <th>120</th>\n      <td>479</td>\n      <td>nip tuck season 3 dvd</td>\n      <td>2006-05-28 00:47:48</td>\n      <td>7.0</td>\n      <td>http://en.wikipedia.org</td>\n    </tr>\n    <tr>\n      <th>121</th>\n      <td>479</td>\n      <td>nip tuck season 3 dvd</td>\n      <td>2006-05-28 00:47:48</td>\n      <td>9.0</td>\n      <td>http://www.dvdtimes.co.uk</td>\n    </tr>\n    <tr>\n      <th>122</th>\n      <td>479</td>\n      <td>nip tuck season 3 dvd</td>\n      <td>2006-05-28 00:47:48</td>\n      <td>1.0</td>\n      <td>http://www.amazon.co.uk</td>\n    </tr>\n  </tbody>\n</table>\n<p>123 rows × 5 columns</p>\n</div>"
     },
     "execution_count": 4,
     "metadata": {},
     "output_type": "execute_result"
    }
   ],
   "source": [
    "import pandas as pd\n",
    "import pickle as pkl\n",
    "from nltk.tokenize import word_tokenize\n",
    "from tqdm import tqdm\n",
    "\n",
    "df = pd.read_csv('data/user-ct-test-collection-02.txt', sep='\\t')\n",
    "\n",
    "# Remove NA query rows\n",
    "df = df.dropna(subset=['Query'])\n",
    "\n",
    "# User 479 queries:\n",
    "df[df['AnonID'] == 479]"
   ]
  },
  {
   "cell_type": "code",
   "execution_count": 6,
   "outputs": [
    {
     "data": {
      "text/plain": "-                 98554\ngoogle            32396\nyahoo             13344\nebay              12949\nyahoo.com          8733\nmapquest           8680\ngoogle.com         8139\nmyspace            7653\nmyspace.com        7099\nwww.google.com     4255\nName: Query, dtype: int64"
     },
     "execution_count": 6,
     "metadata": {},
     "output_type": "execute_result"
    }
   ],
   "source": [
    "# Precomputing frequencies of each query\n",
    "\n",
    "frequencies = df['Query'].value_counts()\n",
    "df['QueryFrequency'] = df['Query'].apply(lambda x: frequencies[x])\n",
    "\n",
    "# df.to_csv('data/user-ct-test-collection-02-with-query-frequencies.txt', sep='\\t', index=False)\n",
    "\n",
    "# Save frequencies in a txt file:\n",
    "# frequencies_df = pd.DataFrame({'Query': frequencies.index, 'Frequency': frequencies.values})\n",
    "# frequencies_df.to_csv('data/query-frequencies-precomputed.txt', sep='\\t', index=False)\n",
    "\n",
    "# Highest frequency queries (top 10)\n",
    "print(\"Top 10 queries by frequency:\")\n",
    "frequencies.head(10)"
   ],
   "metadata": {
    "collapsed": false
   }
  },
  {
   "cell_type": "code",
   "execution_count": 15,
   "outputs": [
    {
     "data": {
      "text/plain": "     AnonID                            Query            QueryTime  ItemRank  \\\n0       479                       family guy  2006-03-01 16:01:20       NaN   \n1       479          also sprach zarathustra  2006-03-02 14:48:55       NaN   \n2       479      family guy movie references  2006-03-03 22:37:46       1.0   \n3       479  top grossing movies of all time  2006-03-03 22:42:42       1.0   \n4       479  top grossing movies of all time  2006-03-03 22:42:42       2.0   \n..      ...                              ...                  ...       ...   \n118     479                         nip tuck  2006-05-28 00:44:58       4.0   \n119     479                nip tuck season 4  2006-05-28 00:47:05       NaN   \n120     479            nip tuck season 3 dvd  2006-05-28 00:47:48       7.0   \n121     479            nip tuck season 3 dvd  2006-05-28 00:47:48       9.0   \n122     479            nip tuck season 3 dvd  2006-05-28 00:47:48       1.0   \n\n                          ClickURL  QueryFrequency  \\\n0                              NaN             191   \n1                              NaN               1   \n2    http://www.familyguyfiles.com               1   \n3              http://movieweb.com               2   \n4              http://www.imdb.com               2   \n..                             ...             ...   \n118         http://www.niptuck.com              24   \n119                            NaN               4   \n120        http://en.wikipedia.org               3   \n121      http://www.dvdtimes.co.uk               3   \n122        http://www.amazon.co.uk               3   \n\n                                           QueryTokens  \n0                                    ['family', 'guy']  \n1                    ['also', 'sprach', 'zarathustra']  \n2             ['family', 'guy', 'movie', 'references']  \n3    ['top', 'grossing', 'movies', 'of', 'all', 'ti...  \n4    ['top', 'grossing', 'movies', 'of', 'all', 'ti...  \n..                                                 ...  \n118                                    ['nip', 'tuck']  \n119                     ['nip', 'tuck', 'season', '4']  \n120              ['nip', 'tuck', 'season', '3', 'dvd']  \n121              ['nip', 'tuck', 'season', '3', 'dvd']  \n122              ['nip', 'tuck', 'season', '3', 'dvd']  \n\n[123 rows x 7 columns]",
      "text/html": "<div>\n<style scoped>\n    .dataframe tbody tr th:only-of-type {\n        vertical-align: middle;\n    }\n\n    .dataframe tbody tr th {\n        vertical-align: top;\n    }\n\n    .dataframe thead th {\n        text-align: right;\n    }\n</style>\n<table border=\"1\" class=\"dataframe\">\n  <thead>\n    <tr style=\"text-align: right;\">\n      <th></th>\n      <th>AnonID</th>\n      <th>Query</th>\n      <th>QueryTime</th>\n      <th>ItemRank</th>\n      <th>ClickURL</th>\n      <th>QueryFrequency</th>\n      <th>QueryTokens</th>\n    </tr>\n  </thead>\n  <tbody>\n    <tr>\n      <th>0</th>\n      <td>479</td>\n      <td>family guy</td>\n      <td>2006-03-01 16:01:20</td>\n      <td>NaN</td>\n      <td>NaN</td>\n      <td>191</td>\n      <td>['family', 'guy']</td>\n    </tr>\n    <tr>\n      <th>1</th>\n      <td>479</td>\n      <td>also sprach zarathustra</td>\n      <td>2006-03-02 14:48:55</td>\n      <td>NaN</td>\n      <td>NaN</td>\n      <td>1</td>\n      <td>['also', 'sprach', 'zarathustra']</td>\n    </tr>\n    <tr>\n      <th>2</th>\n      <td>479</td>\n      <td>family guy movie references</td>\n      <td>2006-03-03 22:37:46</td>\n      <td>1.0</td>\n      <td>http://www.familyguyfiles.com</td>\n      <td>1</td>\n      <td>['family', 'guy', 'movie', 'references']</td>\n    </tr>\n    <tr>\n      <th>3</th>\n      <td>479</td>\n      <td>top grossing movies of all time</td>\n      <td>2006-03-03 22:42:42</td>\n      <td>1.0</td>\n      <td>http://movieweb.com</td>\n      <td>2</td>\n      <td>['top', 'grossing', 'movies', 'of', 'all', 'ti...</td>\n    </tr>\n    <tr>\n      <th>4</th>\n      <td>479</td>\n      <td>top grossing movies of all time</td>\n      <td>2006-03-03 22:42:42</td>\n      <td>2.0</td>\n      <td>http://www.imdb.com</td>\n      <td>2</td>\n      <td>['top', 'grossing', 'movies', 'of', 'all', 'ti...</td>\n    </tr>\n    <tr>\n      <th>...</th>\n      <td>...</td>\n      <td>...</td>\n      <td>...</td>\n      <td>...</td>\n      <td>...</td>\n      <td>...</td>\n      <td>...</td>\n    </tr>\n    <tr>\n      <th>118</th>\n      <td>479</td>\n      <td>nip tuck</td>\n      <td>2006-05-28 00:44:58</td>\n      <td>4.0</td>\n      <td>http://www.niptuck.com</td>\n      <td>24</td>\n      <td>['nip', 'tuck']</td>\n    </tr>\n    <tr>\n      <th>119</th>\n      <td>479</td>\n      <td>nip tuck season 4</td>\n      <td>2006-05-28 00:47:05</td>\n      <td>NaN</td>\n      <td>NaN</td>\n      <td>4</td>\n      <td>['nip', 'tuck', 'season', '4']</td>\n    </tr>\n    <tr>\n      <th>120</th>\n      <td>479</td>\n      <td>nip tuck season 3 dvd</td>\n      <td>2006-05-28 00:47:48</td>\n      <td>7.0</td>\n      <td>http://en.wikipedia.org</td>\n      <td>3</td>\n      <td>['nip', 'tuck', 'season', '3', 'dvd']</td>\n    </tr>\n    <tr>\n      <th>121</th>\n      <td>479</td>\n      <td>nip tuck season 3 dvd</td>\n      <td>2006-05-28 00:47:48</td>\n      <td>9.0</td>\n      <td>http://www.dvdtimes.co.uk</td>\n      <td>3</td>\n      <td>['nip', 'tuck', 'season', '3', 'dvd']</td>\n    </tr>\n    <tr>\n      <th>122</th>\n      <td>479</td>\n      <td>nip tuck season 3 dvd</td>\n      <td>2006-05-28 00:47:48</td>\n      <td>1.0</td>\n      <td>http://www.amazon.co.uk</td>\n      <td>3</td>\n      <td>['nip', 'tuck', 'season', '3', 'dvd']</td>\n    </tr>\n  </tbody>\n</table>\n<p>123 rows × 7 columns</p>\n</div>"
     },
     "execution_count": 15,
     "metadata": {},
     "output_type": "execute_result"
    }
   ],
   "source": [
    "# Precomputing tokens of each query\n",
    "df['QueryTokens'] = df['Query'].apply(word_tokenize)\n",
    "\n",
    "# df.to_csv('data/user-ct-test-collection-02-with-query-frequencies-and-tokens.txt', sep='\\t', index=False)\n",
    "\n",
    "# Save tokens in a txt file:\n",
    "# tokens_df = pd.DataFrame({'Query': df['Query'], 'Tokens': df['QueryTokens']})\n",
    "# tokens_df.to_csv('data/query-tokens-precomputed.txt', sep='\\t', index=False)\n",
    "\n",
    "df[df['AnonID'] == 479]"
   ],
   "metadata": {
    "collapsed": false
   }
  },
  {
   "cell_type": "code",
   "execution_count": 13,
   "outputs": [
    {
     "name": "stdout",
     "output_type": "stream",
     "text": [
      "First 10 sessions:\n",
      "['family guy']\n",
      "['also sprach zarathustra']\n",
      "['family guy movie references', 'top grossing movies of all time', 'top grossing movies of all time']\n",
      "['car decals', 'car decals', 'car decals', 'car window decals', 'car window sponsor decals', 'car sponsor decals', 'car brand name decals', 'brand name decals', 'bose', 'bose car decal', 'bose car decal', 'bose car decal']\n",
      "['chicago the mix', 'chicago the drive', 'chicago radio annoucer whip', 'chicago radio whip', 'chicago radio brian the whipping boy']\n",
      "['emma watson']\n",
      "['stanford encyclopedia of philosophy', 'internet encyclopedia of philosophy', 'www library philosophy', 'allegory of the cave', 'allegory of the cave', 'allegory of the cave']\n",
      "['citation machine']\n",
      "['howard stern lawsuit']\n",
      "['sirius playboy']\n"
     ]
    }
   ],
   "source": [
    "# Creating sessions of queries submitted within 30 min (sorted by timestamp, ascending)\n",
    "\n",
    "# Convert timestamp to datetime\n",
    "df['QueryTime'] = pd.to_datetime(df['QueryTime'])\n",
    "\n",
    "# Sort queries by timestamp for each user\n",
    "df = df.sort_values(['AnonID', 'QueryTime'])\n",
    "\n",
    "# Group queries by user\n",
    "grouped = df.groupby('AnonID')\n",
    "\n",
    "# Create sessions of queries submitted within 30 min\n",
    "# Last query in a session array is the most recent query (we will use it for auto-completion)\n",
    "sessions = []\n",
    "\n",
    "for user, group in tqdm(grouped, desc='Creating sessions'):\n",
    "    session = []\n",
    "    prev_time = group['QueryTime'].iloc[0]\n",
    "\n",
    "    for i, row in group.iterrows():\n",
    "        if (row['QueryTime'] - prev_time).seconds / 60 <= 30:\n",
    "            session.append(row['Query'])\n",
    "        else:\n",
    "            sessions.append(session)\n",
    "            session = [row['Query']]\n",
    "\n",
    "        prev_time = row['QueryTime']\n",
    "\n",
    "    sessions.append(session)\n",
    "\n",
    "# with open('data/user-sessions.pkl', 'wb') as f:\n",
    "#     pkl.dump(sessions, f)\n",
    "\n",
    "print(\"First 10 sessions:\")\n",
    "for i in range(10):\n",
    "    print(sessions[i])"
   ],
   "metadata": {
    "collapsed": false
   }
  },
  {
   "cell_type": "code",
   "execution_count": null,
   "outputs": [],
   "source": [
    "# Split into train and test sets (75% train, 25% test)\n",
    "from sklearn.model_selection import train_test_split\n",
    "\n",
    "train, test = train_test_split(sessions, test_size=0.25, random_state=42)\n",
    "\n",
    "# Save train and test sets\n",
    "# with open('data/train.pkl', 'wb') as f:\n",
    "#     pkl.dump(train, f)\n",
    "#\n",
    "# with open('data/test.pkl', 'wb') as f:\n",
    "#     pkl.dump(test, f)"
   ],
   "metadata": {
    "collapsed": false
   }
  },
  {
   "cell_type": "code",
   "execution_count": 16,
   "outputs": [
    {
     "data": {
      "text/plain": "               Word        IDF\n0                00  10.427107\n1               000  10.697753\n2              0000  13.797845\n3             00000  15.001818\n4            000000  11.381931\n...             ...        ...\n454167  öóêåíãøùçõú  15.407283\n454168           ùù  15.407283\n454169         úãöá  15.407283\n454170           úä  15.407283\n454171         üôøä  15.407283\n\n[454172 rows x 2 columns]",
      "text/html": "<div>\n<style scoped>\n    .dataframe tbody tr th:only-of-type {\n        vertical-align: middle;\n    }\n\n    .dataframe tbody tr th {\n        vertical-align: top;\n    }\n\n    .dataframe thead th {\n        text-align: right;\n    }\n</style>\n<table border=\"1\" class=\"dataframe\">\n  <thead>\n    <tr style=\"text-align: right;\">\n      <th></th>\n      <th>Word</th>\n      <th>IDF</th>\n    </tr>\n  </thead>\n  <tbody>\n    <tr>\n      <th>0</th>\n      <td>00</td>\n      <td>10.427107</td>\n    </tr>\n    <tr>\n      <th>1</th>\n      <td>000</td>\n      <td>10.697753</td>\n    </tr>\n    <tr>\n      <th>2</th>\n      <td>0000</td>\n      <td>13.797845</td>\n    </tr>\n    <tr>\n      <th>3</th>\n      <td>00000</td>\n      <td>15.001818</td>\n    </tr>\n    <tr>\n      <th>4</th>\n      <td>000000</td>\n      <td>11.381931</td>\n    </tr>\n    <tr>\n      <th>...</th>\n      <td>...</td>\n      <td>...</td>\n    </tr>\n    <tr>\n      <th>454167</th>\n      <td>öóêåíãøùçõú</td>\n      <td>15.407283</td>\n    </tr>\n    <tr>\n      <th>454168</th>\n      <td>ùù</td>\n      <td>15.407283</td>\n    </tr>\n    <tr>\n      <th>454169</th>\n      <td>úãöá</td>\n      <td>15.407283</td>\n    </tr>\n    <tr>\n      <th>454170</th>\n      <td>úä</td>\n      <td>15.407283</td>\n    </tr>\n    <tr>\n      <th>454171</th>\n      <td>üôøä</td>\n      <td>15.407283</td>\n    </tr>\n  </tbody>\n</table>\n<p>454172 rows × 2 columns</p>\n</div>"
     },
     "execution_count": 16,
     "metadata": {},
     "output_type": "execute_result"
    }
   ],
   "source": [
    "# Tf-idf scores of all words in the queries\n",
    "from sklearn.feature_extraction.text import TfidfVectorizer\n",
    "\n",
    "# Initialize the vectorizer\n",
    "vectorizer = TfidfVectorizer()\n",
    "\n",
    "# Fit the vectorizer\n",
    "X = vectorizer.fit_transform(df['QueryTokens'])\n",
    "\n",
    "# Get the feature names\n",
    "feature_names = vectorizer.get_feature_names_out()\n",
    "\n",
    "# Create a dataframe with the feature names and their corresponding idf scores\n",
    "idf_scores = pd.DataFrame({'Word': feature_names, 'IDF': vectorizer.idf_})\n",
    "\n",
    "# Save the idf scores\n",
    "# idf_scores.to_csv('data/idf-scores-precomputed.txt', sep='\\t', index=False)\n",
    "\n",
    "idf_scores"
   ],
   "metadata": {
    "collapsed": false
   }
  }
 ],
 "metadata": {
  "kernelspec": {
   "display_name": "Python 3",
   "language": "python",
   "name": "python3"
  },
  "language_info": {
   "codemirror_mode": {
    "name": "ipython",
    "version": 2
   },
   "file_extension": ".py",
   "mimetype": "text/x-python",
   "name": "python",
   "nbconvert_exporter": "python",
   "pygments_lexer": "ipython2",
   "version": "2.7.6"
  }
 },
 "nbformat": 4,
 "nbformat_minor": 0
}
